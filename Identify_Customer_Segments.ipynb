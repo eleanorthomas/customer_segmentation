{
 "cells": [
  {
   "cell_type": "markdown",
   "metadata": {},
   "source": [
    "# Project: Identify Customer Segments\n",
    "\n",
    "In this project, you will apply unsupervised learning techniques to identify segments of the population that form the core customer base for a mail-order sales company in Germany. These segments can then be used to direct marketing campaigns towards audiences that will have the highest expected rate of returns. The data that you will use has been provided by our partners at Bertelsmann Arvato Analytics, and represents a real-life data science task.\n",
    "\n",
    "This notebook will help you complete this task by providing a framework within which you will perform your analysis steps. In each step of the project, you will see some text describing the subtask that you will perform, followed by one or more code cells for you to complete your work. **Feel free to add additional code and markdown cells as you go along so that you can explore everything in precise chunks.** The code cells provided in the base template will outline only the major tasks, and will usually not be enough to cover all of the minor tasks that comprise it.\n",
    "\n",
    "It should be noted that while there will be precise guidelines on how you should handle certain tasks in the project, there will also be places where an exact specification is not provided. **There will be times in the project where you will need to make and justify your own decisions on how to treat the data.** These are places where there may not be only one way to handle the data. In real-life tasks, there may be many valid ways to approach an analysis task. One of the most important things you can do is clearly document your approach so that other scientists can understand the decisions you've made.\n",
    "\n",
    "At the end of most sections, there will be a Markdown cell labeled **Discussion**. In these cells, you will report your findings for the completed section, as well as document the decisions that you made in your approach to each subtask. **Your project will be evaluated not just on the code used to complete the tasks outlined, but also your communication about your observations and conclusions at each stage.**"
   ]
  },
  {
   "cell_type": "code",
   "execution_count": 1,
   "metadata": {},
   "outputs": [],
   "source": [
    "# import libraries here; add more as necessary\n",
    "import numpy as np\n",
    "import pandas as pd\n",
    "import matplotlib.pyplot as plt\n",
    "import seaborn as sns\n",
    "\n",
    "from sklearn.preprocessing import Imputer, StandardScaler\n",
    "from sklearn.decomposition import PCA\n",
    "from sklearn.cluster import KMeans\n",
    "\n",
    "# magic word for producing visualizations in notebook\n",
    "%matplotlib inline"
   ]
  },
  {
   "cell_type": "markdown",
   "metadata": {},
   "source": [
    "### Step 0: Load the Data\n",
    "\n",
    "There are four files associated with this project (not including this one):\n",
    "\n",
    "- `Udacity_AZDIAS_Subset.csv`: Demographics data for the general population of Germany; 891211 persons (rows) x 85 features (columns).\n",
    "- `Udacity_CUSTOMERS_Subset.csv`: Demographics data for customers of a mail-order company; 191652 persons (rows) x 85 features (columns).\n",
    "- `Data_Dictionary.md`: Detailed information file about the features in the provided datasets.\n",
    "- `AZDIAS_Feature_Summary.csv`: Summary of feature attributes for demographics data; 85 features (rows) x 4 columns\n",
    "\n",
    "Each row of the demographics files represents a single person, but also includes information outside of individuals, including information about their household, building, and neighborhood. You will use this information to cluster the general population into groups with similar demographic properties. Then, you will see how the people in the customers dataset fit into those created clusters. The hope here is that certain clusters are over-represented in the customers data, as compared to the general population; those over-represented clusters will be assumed to be part of the core userbase. This information can then be used for further applications, such as targeting for a marketing campaign.\n",
    "\n",
    "To start off with, load in the demographics data for the general population into a pandas DataFrame, and do the same for the feature attributes summary. Note for all of the `.csv` data files in this project: they're semicolon (`;`) delimited, so you'll need an additional argument in your [`read_csv()`](https://pandas.pydata.org/pandas-docs/stable/generated/pandas.read_csv.html) call to read in the data properly. Also, considering the size of the main dataset, it may take some time for it to load completely.\n",
    "\n",
    "Once the dataset is loaded, it's recommended that you take a little bit of time just browsing the general structure of the dataset and feature summary file. You'll be getting deep into the innards of the cleaning in the first major step of the project, so gaining some general familiarity can help you get your bearings."
   ]
  },
  {
   "cell_type": "code",
   "execution_count": 2,
   "metadata": {},
   "outputs": [],
   "source": [
    "# Load in the general demographics data.\n",
    "azdias = pd.read_csv('Udacity_AZDIAS_Subset.csv', sep=';')\n",
    "\n",
    "# Load in the feature summary file.\n",
    "feat_info = pd.read_csv('AZDIAS_Feature_Summary.csv', sep=';')"
   ]
  },
  {
   "cell_type": "code",
   "execution_count": 3,
   "metadata": {},
   "outputs": [
    {
     "name": "stdout",
     "output_type": "stream",
     "text": [
      "<class 'pandas.core.frame.DataFrame'>\n",
      "RangeIndex: 891221 entries, 0 to 891220\n",
      "Data columns (total 85 columns):\n",
      "AGER_TYP                 891221 non-null int64\n",
      "ALTERSKATEGORIE_GROB     891221 non-null int64\n",
      "ANREDE_KZ                891221 non-null int64\n",
      "CJT_GESAMTTYP            886367 non-null float64\n",
      "FINANZ_MINIMALIST        891221 non-null int64\n",
      "FINANZ_SPARER            891221 non-null int64\n",
      "FINANZ_VORSORGER         891221 non-null int64\n",
      "FINANZ_ANLEGER           891221 non-null int64\n",
      "FINANZ_UNAUFFAELLIGER    891221 non-null int64\n",
      "FINANZ_HAUSBAUER         891221 non-null int64\n",
      "FINANZTYP                891221 non-null int64\n",
      "GEBURTSJAHR              891221 non-null int64\n",
      "GFK_URLAUBERTYP          886367 non-null float64\n",
      "GREEN_AVANTGARDE         891221 non-null int64\n",
      "HEALTH_TYP               891221 non-null int64\n",
      "LP_LEBENSPHASE_FEIN      886367 non-null float64\n",
      "LP_LEBENSPHASE_GROB      886367 non-null float64\n",
      "LP_FAMILIE_FEIN          886367 non-null float64\n",
      "LP_FAMILIE_GROB          886367 non-null float64\n",
      "LP_STATUS_FEIN           886367 non-null float64\n",
      "LP_STATUS_GROB           886367 non-null float64\n",
      "NATIONALITAET_KZ         891221 non-null int64\n",
      "PRAEGENDE_JUGENDJAHRE    891221 non-null int64\n",
      "RETOURTYP_BK_S           886367 non-null float64\n",
      "SEMIO_SOZ                891221 non-null int64\n",
      "SEMIO_FAM                891221 non-null int64\n",
      "SEMIO_REL                891221 non-null int64\n",
      "SEMIO_MAT                891221 non-null int64\n",
      "SEMIO_VERT               891221 non-null int64\n",
      "SEMIO_LUST               891221 non-null int64\n",
      "SEMIO_ERL                891221 non-null int64\n",
      "SEMIO_KULT               891221 non-null int64\n",
      "SEMIO_RAT                891221 non-null int64\n",
      "SEMIO_KRIT               891221 non-null int64\n",
      "SEMIO_DOM                891221 non-null int64\n",
      "SEMIO_KAEM               891221 non-null int64\n",
      "SEMIO_PFLICHT            891221 non-null int64\n",
      "SEMIO_TRADV              891221 non-null int64\n",
      "SHOPPER_TYP              891221 non-null int64\n",
      "SOHO_KZ                  817722 non-null float64\n",
      "TITEL_KZ                 817722 non-null float64\n",
      "VERS_TYP                 891221 non-null int64\n",
      "ZABEOTYP                 891221 non-null int64\n",
      "ALTER_HH                 817722 non-null float64\n",
      "ANZ_PERSONEN             817722 non-null float64\n",
      "ANZ_TITEL                817722 non-null float64\n",
      "HH_EINKOMMEN_SCORE       872873 non-null float64\n",
      "KK_KUNDENTYP             306609 non-null float64\n",
      "W_KEIT_KIND_HH           783619 non-null float64\n",
      "WOHNDAUER_2008           817722 non-null float64\n",
      "ANZ_HAUSHALTE_AKTIV      798073 non-null float64\n",
      "ANZ_HH_TITEL             794213 non-null float64\n",
      "GEBAEUDETYP              798073 non-null float64\n",
      "KONSUMNAEHE              817252 non-null float64\n",
      "MIN_GEBAEUDEJAHR         798073 non-null float64\n",
      "OST_WEST_KZ              798073 non-null object\n",
      "WOHNLAGE                 798073 non-null float64\n",
      "CAMEO_DEUG_2015          792242 non-null object\n",
      "CAMEO_DEU_2015           792242 non-null object\n",
      "CAMEO_INTL_2015          792242 non-null object\n",
      "KBA05_ANTG1              757897 non-null float64\n",
      "KBA05_ANTG2              757897 non-null float64\n",
      "KBA05_ANTG3              757897 non-null float64\n",
      "KBA05_ANTG4              757897 non-null float64\n",
      "KBA05_BAUMAX             757897 non-null float64\n",
      "KBA05_GBZ                757897 non-null float64\n",
      "BALLRAUM                 797481 non-null float64\n",
      "EWDICHTE                 797481 non-null float64\n",
      "INNENSTADT               797481 non-null float64\n",
      "GEBAEUDETYP_RASTER       798066 non-null float64\n",
      "KKK                      770025 non-null float64\n",
      "MOBI_REGIO               757897 non-null float64\n",
      "ONLINE_AFFINITAET        886367 non-null float64\n",
      "REGIOTYP                 770025 non-null float64\n",
      "KBA13_ANZAHL_PKW         785421 non-null float64\n",
      "PLZ8_ANTG1               774706 non-null float64\n",
      "PLZ8_ANTG2               774706 non-null float64\n",
      "PLZ8_ANTG3               774706 non-null float64\n",
      "PLZ8_ANTG4               774706 non-null float64\n",
      "PLZ8_BAUMAX              774706 non-null float64\n",
      "PLZ8_HHZ                 774706 non-null float64\n",
      "PLZ8_GBZ                 774706 non-null float64\n",
      "ARBEIT                   794005 non-null float64\n",
      "ORTSGR_KLS9              794005 non-null float64\n",
      "RELAT_AB                 794005 non-null float64\n",
      "dtypes: float64(49), int64(32), object(4)\n",
      "memory usage: 578.0+ MB\n"
     ]
    }
   ],
   "source": [
    "# Check the structure of the data after it's loaded (e.g. print the number of\n",
    "# rows and columns, print the first few rows).\n",
    "\n",
    "azdias.info()"
   ]
  },
  {
   "cell_type": "code",
   "execution_count": 4,
   "metadata": {},
   "outputs": [
    {
     "data": {
      "text/html": [
       "<div>\n",
       "<style>\n",
       "    .dataframe thead tr:only-child th {\n",
       "        text-align: right;\n",
       "    }\n",
       "\n",
       "    .dataframe thead th {\n",
       "        text-align: left;\n",
       "    }\n",
       "\n",
       "    .dataframe tbody tr th {\n",
       "        vertical-align: top;\n",
       "    }\n",
       "</style>\n",
       "<table border=\"1\" class=\"dataframe\">\n",
       "  <thead>\n",
       "    <tr style=\"text-align: right;\">\n",
       "      <th></th>\n",
       "      <th>AGER_TYP</th>\n",
       "      <th>ALTERSKATEGORIE_GROB</th>\n",
       "      <th>ANREDE_KZ</th>\n",
       "      <th>CJT_GESAMTTYP</th>\n",
       "      <th>FINANZ_MINIMALIST</th>\n",
       "      <th>FINANZ_SPARER</th>\n",
       "      <th>FINANZ_VORSORGER</th>\n",
       "      <th>FINANZ_ANLEGER</th>\n",
       "      <th>FINANZ_UNAUFFAELLIGER</th>\n",
       "      <th>FINANZ_HAUSBAUER</th>\n",
       "      <th>...</th>\n",
       "      <th>PLZ8_ANTG1</th>\n",
       "      <th>PLZ8_ANTG2</th>\n",
       "      <th>PLZ8_ANTG3</th>\n",
       "      <th>PLZ8_ANTG4</th>\n",
       "      <th>PLZ8_BAUMAX</th>\n",
       "      <th>PLZ8_HHZ</th>\n",
       "      <th>PLZ8_GBZ</th>\n",
       "      <th>ARBEIT</th>\n",
       "      <th>ORTSGR_KLS9</th>\n",
       "      <th>RELAT_AB</th>\n",
       "    </tr>\n",
       "  </thead>\n",
       "  <tbody>\n",
       "    <tr>\n",
       "      <th>0</th>\n",
       "      <td>-1</td>\n",
       "      <td>2</td>\n",
       "      <td>1</td>\n",
       "      <td>2.0</td>\n",
       "      <td>3</td>\n",
       "      <td>4</td>\n",
       "      <td>3</td>\n",
       "      <td>5</td>\n",
       "      <td>5</td>\n",
       "      <td>3</td>\n",
       "      <td>...</td>\n",
       "      <td>NaN</td>\n",
       "      <td>NaN</td>\n",
       "      <td>NaN</td>\n",
       "      <td>NaN</td>\n",
       "      <td>NaN</td>\n",
       "      <td>NaN</td>\n",
       "      <td>NaN</td>\n",
       "      <td>NaN</td>\n",
       "      <td>NaN</td>\n",
       "      <td>NaN</td>\n",
       "    </tr>\n",
       "    <tr>\n",
       "      <th>1</th>\n",
       "      <td>-1</td>\n",
       "      <td>1</td>\n",
       "      <td>2</td>\n",
       "      <td>5.0</td>\n",
       "      <td>1</td>\n",
       "      <td>5</td>\n",
       "      <td>2</td>\n",
       "      <td>5</td>\n",
       "      <td>4</td>\n",
       "      <td>5</td>\n",
       "      <td>...</td>\n",
       "      <td>2.0</td>\n",
       "      <td>3.0</td>\n",
       "      <td>2.0</td>\n",
       "      <td>1.0</td>\n",
       "      <td>1.0</td>\n",
       "      <td>5.0</td>\n",
       "      <td>4.0</td>\n",
       "      <td>3.0</td>\n",
       "      <td>5.0</td>\n",
       "      <td>4.0</td>\n",
       "    </tr>\n",
       "    <tr>\n",
       "      <th>2</th>\n",
       "      <td>-1</td>\n",
       "      <td>3</td>\n",
       "      <td>2</td>\n",
       "      <td>3.0</td>\n",
       "      <td>1</td>\n",
       "      <td>4</td>\n",
       "      <td>1</td>\n",
       "      <td>2</td>\n",
       "      <td>3</td>\n",
       "      <td>5</td>\n",
       "      <td>...</td>\n",
       "      <td>3.0</td>\n",
       "      <td>3.0</td>\n",
       "      <td>1.0</td>\n",
       "      <td>0.0</td>\n",
       "      <td>1.0</td>\n",
       "      <td>4.0</td>\n",
       "      <td>4.0</td>\n",
       "      <td>3.0</td>\n",
       "      <td>5.0</td>\n",
       "      <td>2.0</td>\n",
       "    </tr>\n",
       "    <tr>\n",
       "      <th>3</th>\n",
       "      <td>2</td>\n",
       "      <td>4</td>\n",
       "      <td>2</td>\n",
       "      <td>2.0</td>\n",
       "      <td>4</td>\n",
       "      <td>2</td>\n",
       "      <td>5</td>\n",
       "      <td>2</td>\n",
       "      <td>1</td>\n",
       "      <td>2</td>\n",
       "      <td>...</td>\n",
       "      <td>2.0</td>\n",
       "      <td>2.0</td>\n",
       "      <td>2.0</td>\n",
       "      <td>0.0</td>\n",
       "      <td>1.0</td>\n",
       "      <td>3.0</td>\n",
       "      <td>4.0</td>\n",
       "      <td>2.0</td>\n",
       "      <td>3.0</td>\n",
       "      <td>3.0</td>\n",
       "    </tr>\n",
       "    <tr>\n",
       "      <th>4</th>\n",
       "      <td>-1</td>\n",
       "      <td>3</td>\n",
       "      <td>1</td>\n",
       "      <td>5.0</td>\n",
       "      <td>4</td>\n",
       "      <td>3</td>\n",
       "      <td>4</td>\n",
       "      <td>1</td>\n",
       "      <td>3</td>\n",
       "      <td>2</td>\n",
       "      <td>...</td>\n",
       "      <td>2.0</td>\n",
       "      <td>4.0</td>\n",
       "      <td>2.0</td>\n",
       "      <td>1.0</td>\n",
       "      <td>2.0</td>\n",
       "      <td>3.0</td>\n",
       "      <td>3.0</td>\n",
       "      <td>4.0</td>\n",
       "      <td>6.0</td>\n",
       "      <td>5.0</td>\n",
       "    </tr>\n",
       "  </tbody>\n",
       "</table>\n",
       "<p>5 rows × 85 columns</p>\n",
       "</div>"
      ],
      "text/plain": [
       "   AGER_TYP  ALTERSKATEGORIE_GROB  ANREDE_KZ  CJT_GESAMTTYP  \\\n",
       "0        -1                     2          1            2.0   \n",
       "1        -1                     1          2            5.0   \n",
       "2        -1                     3          2            3.0   \n",
       "3         2                     4          2            2.0   \n",
       "4        -1                     3          1            5.0   \n",
       "\n",
       "   FINANZ_MINIMALIST  FINANZ_SPARER  FINANZ_VORSORGER  FINANZ_ANLEGER  \\\n",
       "0                  3              4                 3               5   \n",
       "1                  1              5                 2               5   \n",
       "2                  1              4                 1               2   \n",
       "3                  4              2                 5               2   \n",
       "4                  4              3                 4               1   \n",
       "\n",
       "   FINANZ_UNAUFFAELLIGER  FINANZ_HAUSBAUER    ...     PLZ8_ANTG1  PLZ8_ANTG2  \\\n",
       "0                      5                 3    ...            NaN         NaN   \n",
       "1                      4                 5    ...            2.0         3.0   \n",
       "2                      3                 5    ...            3.0         3.0   \n",
       "3                      1                 2    ...            2.0         2.0   \n",
       "4                      3                 2    ...            2.0         4.0   \n",
       "\n",
       "   PLZ8_ANTG3  PLZ8_ANTG4  PLZ8_BAUMAX  PLZ8_HHZ  PLZ8_GBZ  ARBEIT  \\\n",
       "0         NaN         NaN          NaN       NaN       NaN     NaN   \n",
       "1         2.0         1.0          1.0       5.0       4.0     3.0   \n",
       "2         1.0         0.0          1.0       4.0       4.0     3.0   \n",
       "3         2.0         0.0          1.0       3.0       4.0     2.0   \n",
       "4         2.0         1.0          2.0       3.0       3.0     4.0   \n",
       "\n",
       "   ORTSGR_KLS9  RELAT_AB  \n",
       "0          NaN       NaN  \n",
       "1          5.0       4.0  \n",
       "2          5.0       2.0  \n",
       "3          3.0       3.0  \n",
       "4          6.0       5.0  \n",
       "\n",
       "[5 rows x 85 columns]"
      ]
     },
     "execution_count": 4,
     "metadata": {},
     "output_type": "execute_result"
    }
   ],
   "source": [
    "azdias.head()"
   ]
  },
  {
   "cell_type": "code",
   "execution_count": 3,
   "metadata": {},
   "outputs": [
    {
     "data": {
      "text/html": [
       "<div>\n",
       "<style>\n",
       "    .dataframe thead tr:only-child th {\n",
       "        text-align: right;\n",
       "    }\n",
       "\n",
       "    .dataframe thead th {\n",
       "        text-align: left;\n",
       "    }\n",
       "\n",
       "    .dataframe tbody tr th {\n",
       "        vertical-align: top;\n",
       "    }\n",
       "</style>\n",
       "<table border=\"1\" class=\"dataframe\">\n",
       "  <thead>\n",
       "    <tr style=\"text-align: right;\">\n",
       "      <th></th>\n",
       "      <th>attribute</th>\n",
       "      <th>information_level</th>\n",
       "      <th>type</th>\n",
       "      <th>missing_or_unknown</th>\n",
       "    </tr>\n",
       "  </thead>\n",
       "  <tbody>\n",
       "    <tr>\n",
       "      <th>0</th>\n",
       "      <td>AGER_TYP</td>\n",
       "      <td>person</td>\n",
       "      <td>categorical</td>\n",
       "      <td>[-1,0]</td>\n",
       "    </tr>\n",
       "    <tr>\n",
       "      <th>1</th>\n",
       "      <td>ALTERSKATEGORIE_GROB</td>\n",
       "      <td>person</td>\n",
       "      <td>ordinal</td>\n",
       "      <td>[-1,0,9]</td>\n",
       "    </tr>\n",
       "    <tr>\n",
       "      <th>2</th>\n",
       "      <td>ANREDE_KZ</td>\n",
       "      <td>person</td>\n",
       "      <td>categorical</td>\n",
       "      <td>[-1,0]</td>\n",
       "    </tr>\n",
       "    <tr>\n",
       "      <th>3</th>\n",
       "      <td>CJT_GESAMTTYP</td>\n",
       "      <td>person</td>\n",
       "      <td>categorical</td>\n",
       "      <td>[0]</td>\n",
       "    </tr>\n",
       "    <tr>\n",
       "      <th>4</th>\n",
       "      <td>FINANZ_MINIMALIST</td>\n",
       "      <td>person</td>\n",
       "      <td>ordinal</td>\n",
       "      <td>[-1]</td>\n",
       "    </tr>\n",
       "  </tbody>\n",
       "</table>\n",
       "</div>"
      ],
      "text/plain": [
       "              attribute information_level         type missing_or_unknown\n",
       "0              AGER_TYP            person  categorical             [-1,0]\n",
       "1  ALTERSKATEGORIE_GROB            person      ordinal           [-1,0,9]\n",
       "2             ANREDE_KZ            person  categorical             [-1,0]\n",
       "3         CJT_GESAMTTYP            person  categorical                [0]\n",
       "4     FINANZ_MINIMALIST            person      ordinal               [-1]"
      ]
     },
     "execution_count": 3,
     "metadata": {},
     "output_type": "execute_result"
    }
   ],
   "source": [
    "feat_info.head()"
   ]
  },
  {
   "cell_type": "markdown",
   "metadata": {},
   "source": [
    "> **Tip**: Add additional cells to keep everything in reasonably-sized chunks! Keyboard shortcut `esc --> a` (press escape to enter command mode, then press the 'A' key) adds a new cell before the active cell, and `esc --> b` adds a new cell after the active cell. If you need to convert an active cell to a markdown cell, use `esc --> m` and to convert to a code cell, use `esc --> y`. \n",
    "\n",
    "## Step 1: Preprocessing\n",
    "\n",
    "### Step 1.1: Assess Missing Data\n",
    "\n",
    "The feature summary file contains a summary of properties for each demographics data column. You will use this file to help you make cleaning decisions during this stage of the project. First of all, you should assess the demographics data in terms of missing data. Pay attention to the following points as you perform your analysis, and take notes on what you observe. Make sure that you fill in the **Discussion** cell with your findings and decisions at the end of each step that has one!\n",
    "\n",
    "#### Step 1.1.1: Convert Missing Value Codes to NaNs\n",
    "The fourth column of the feature attributes summary (loaded in above as `feat_info`) documents the codes from the data dictionary that indicate missing or unknown data. While the file encodes this as a list (e.g. `[-1,0]`), this will get read in as a string object. You'll need to do a little bit of parsing to make use of it to identify and clean the data. Convert data that matches a 'missing' or 'unknown' value code into a numpy NaN value. You might want to see how much data takes on a 'missing' or 'unknown' code, and how much data is naturally missing, as a point of interest.\n",
    "\n",
    "**As one more reminder, you are encouraged to add additional cells to break up your analysis into manageable chunks.**"
   ]
  },
  {
   "cell_type": "code",
   "execution_count": 3,
   "metadata": {},
   "outputs": [],
   "source": [
    "# Identify missing or unknown data values and convert them to NaNs.\n",
    "for c in azdias.columns:\n",
    "    missing_string = feat_info.loc[feat_info.attribute == c, 'missing_or_unknown'].iloc[0]\n",
    "    missing_list = missing_string[1:-1].split(',')\n",
    "    azdias[c].replace(missing_list, np.nan, inplace=True)"
   ]
  },
  {
   "cell_type": "markdown",
   "metadata": {},
   "source": [
    "#### Step 1.1.2: Assess Missing Data in Each Column\n",
    "\n",
    "How much missing data is present in each column? There are a few columns that are outliers in terms of the proportion of values that are missing. You will want to use matplotlib's [`hist()`](https://matplotlib.org/api/_as_gen/matplotlib.pyplot.hist.html) function to visualize the distribution of missing value counts to find these columns. Identify and document these columns. While some of these columns might have justifications for keeping or re-encoding the data, for this project you should just remove them from the dataframe. (Feel free to make remarks about these outlier columns in the discussion, however!)\n",
    "\n",
    "For the remaining features, are there any patterns in which columns have, or share, missing data?"
   ]
  },
  {
   "cell_type": "code",
   "execution_count": 6,
   "metadata": {},
   "outputs": [],
   "source": [
    "# Perform an assessment of how much missing data there is in each column of the\n",
    "# dataset.\n",
    "missing_counts = dict()\n",
    "for c in azdias.columns:\n",
    "    missing_counts[c] = azdias[c].isnull().sum()"
   ]
  },
  {
   "cell_type": "code",
   "execution_count": 7,
   "metadata": {},
   "outputs": [
    {
     "name": "stdout",
     "output_type": "stream",
     "text": [
      "42\n",
      "['KK_KUNDENTYP']\n",
      "584612\n"
     ]
    },
    {
     "data": {
      "image/png": "[encoded data removed]",
      "text/plain": [
       "<matplotlib.figure.Figure at 0x7f3ad4e07ef0>"
      ]
     },
     "metadata": {},
     "output_type": "display_data"
    }
   ],
   "source": [
    "# Investigate patterns in the amount of missing data in each column.\n",
    "plt.hist(missing_counts.values(), bins=25)\n",
    "\n",
    "lot_missing_columns = [k for (k,v) in missing_counts.items() if v > 50000]\n",
    "print(len(lot_missing_columns))\n",
    "\n",
    "outlier_columns = [k for (k,v) in missing_counts.items() if v / len(azdias) > 0.15]\n",
    "print(outlier_columns)\n",
    "print(missing_counts[outlier_columns[0]])"
   ]
  },
  {
   "cell_type": "code",
   "execution_count": 8,
   "metadata": {},
   "outputs": [],
   "source": [
    "# Remove the outlier columns from the dataset. (You'll perform other data\n",
    "# engineering tasks such as re-encoding and imputation later.)\n",
    "azdias.drop(outlier_columns, axis=1, inplace=True)"
   ]
  },
  {
   "cell_type": "markdown",
   "metadata": {},
   "source": [
    "#### Discussion 1.1.2: Assess Missing Data in Each Column\n",
    "\n",
    "About half of the columns (42) were missing more than 50,000 entries, clustered in the range of 50,000 to 150,000 missing entries. That's approximately 5-16% of the data. One column ('KK_KUNDENTYP') was missing 584,612 entries, over 60% of the data! This column has been dropped from the dataset."
   ]
  },
  {
   "cell_type": "markdown",
   "metadata": {},
   "source": [
    "#### Step 1.1.3: Assess Missing Data in Each Row\n",
    "\n",
    "Now, you'll perform a similar assessment for the rows of the dataset. How much data is missing in each row? As with the columns, you should see some groups of points that have a very different numbers of missing values. Divide the data into two subsets: one for data points that are above some threshold for missing values, and a second subset for points below that threshold.\n",
    "\n",
    "In order to know what to do with the outlier rows, we should see if the distribution of data values on columns that are not missing data (or are missing very little data) are similar or different between the two groups. Select at least five of these columns and compare the distribution of values.\n",
    "- You can use seaborn's [`countplot()`](https://seaborn.pydata.org/generated/seaborn.countplot.html) function to create a bar chart of code frequencies and matplotlib's [`subplot()`](https://matplotlib.org/api/_as_gen/matplotlib.pyplot.subplot.html) function to put bar charts for the two subplots side by side.\n",
    "- To reduce repeated code, you might want to write a function that can perform this comparison, taking as one of its arguments a column to be compared.\n",
    "\n",
    "Depending on what you observe in your comparison, this will have implications on how you approach your conclusions later in the analysis. If the distributions of non-missing features look similar between the data with many missing values and the data with few or no missing values, then we could argue that simply dropping those points from the analysis won't present a major issue. On the other hand, if the data with many missing values looks very different from the data with few or no missing values, then we should make a note on those data as special. Make sure you report your observations in the discussion section. **Either way, you should continue your analysis below using just the subset of the data with few or no missing values.**"
   ]
  },
  {
   "cell_type": "code",
   "execution_count": 9,
   "metadata": {},
   "outputs": [
    {
     "data": {
      "text/plain": [
       "(array([  7.25800000e+05,   1.76400000e+04,   5.38000000e+02,\n",
       "          1.60860000e+04,   5.70500000e+03,   1.72860000e+04,\n",
       "          7.79000000e+02,   3.08900000e+03,   6.67200000e+03,\n",
       "          2.30100000e+03,   8.20000000e+02,   1.20600000e+03,\n",
       "          4.30000000e+01,   3.80000000e+01,   3.60000000e+01,\n",
       "          2.20000000e+01,   1.20000000e+01,   0.00000000e+00,\n",
       "          1.91640000e+04,   3.85000000e+02,   0.00000000e+00,\n",
       "          0.00000000e+00,   7.34990000e+04,   0.00000000e+00,\n",
       "          1.00000000e+02]),\n",
       " array([  0. ,   1.8,   3.6,   5.4,   7.2,   9. ,  10.8,  12.6,  14.4,\n",
       "         16.2,  18. ,  19.8,  21.6,  23.4,  25.2,  27. ,  28.8,  30.6,\n",
       "         32.4,  34.2,  36. ,  37.8,  39.6,  41.4,  43.2,  45. ]),\n",
       " <a list of 25 Patch objects>)"
      ]
     },
     "execution_count": 9,
     "metadata": {},
     "output_type": "execute_result"
    },
    {
     "data": {
      "image/png": "[encoded data removed]",
      "text/plain": [
       "<matplotlib.figure.Figure at 0x7f3ad4d5e278>"
      ]
     },
     "metadata": {},
     "output_type": "display_data"
    }
   ],
   "source": [
    "# How much data is missing in each row of the dataset?\n",
    "num_cols = len(azdias.columns)\n",
    "missing_counts_by_row = azdias.apply(lambda x: num_cols - x.count(), axis=1)\n",
    "\n",
    "plt.hist(missing_counts_by_row, bins=25)"
   ]
  },
  {
   "cell_type": "code",
   "execution_count": 10,
   "metadata": {},
   "outputs": [],
   "source": [
    "# Write code to divide the data into two subsets based on the number of missing\n",
    "# values in each row.\n",
    "threshold = 5\n",
    "azdias_outliers = azdias.loc[missing_counts_by_row.values > threshold, :]\n",
    "azdias_rest = azdias.loc[missing_counts_by_row.values <= threshold, :]"
   ]
  },
  {
   "cell_type": "code",
   "execution_count": 11,
   "metadata": {},
   "outputs": [],
   "source": [
    "# Compare the distribution of values for at least five columns where there are\n",
    "# no or few missing values, between the two subsets.\n",
    "def compare_sets(data_outliers, data_rest, columns):\n",
    "    f, axes = plt.subplots(len(columns), 2, figsize=(6,(4 * (len(columns) + 1))))\n",
    "    for i in range(len(columns)):\n",
    "        sns.countplot(x=columns[i], data=data_outliers, ax=axes[i][0])\n",
    "        sns.countplot(x=columns[i], data=data_rest, ax=axes[i][1])"
   ]
  },
  {
   "cell_type": "code",
   "execution_count": 12,
   "metadata": {},
   "outputs": [
    {
     "data": {
      "image/png": "[encoded data removed]",
      "text/plain": [
       "<matplotlib.figure.Figure at 0x7f3a4df07f60>"
      ]
     },
     "metadata": {},
     "output_type": "display_data"
    }
   ],
   "source": [
    "none_missing_columns = [k for (k,v) in missing_counts.items() if v == 0]\n",
    "sample_cols = none_missing_columns[0:5]\n",
    "\n",
    "compare_sets(azdias_outliers, azdias_rest, sample_cols)"
   ]
  },
  {
   "cell_type": "markdown",
   "metadata": {},
   "source": [
    "#### Discussion 1.1.3: Assess Missing Data in Each Row\n",
    "\n",
    "The distribution of data is similar between the rows with a lot of missing data and the rows with very little missing data for certain columns, such as ANREDE_KZ, AGER_TYP, and to a lesser degree ALTERSKATEGORIE_GROB. On the other hand, the distribution between the two datasets is *quite* different for some columns, such as FINANZ_SPARER and FINANZ_MINIMALIST. Depending on the meaning of these columns, this could have implications for our analysis by dropping the rows with lots of missing data. These rows could come from a different data source with more missing values but also representing a different segment of the population."
   ]
  },
  {
   "cell_type": "markdown",
   "metadata": {},
   "source": [
    "### Step 1.2: Select and Re-Encode Features\n",
    "\n",
    "Checking for missing data isn't the only way in which you can prepare a dataset for analysis. Since the unsupervised learning techniques to be used will only work on data that is encoded numerically, you need to make a few encoding changes or additional assumptions to be able to make progress. In addition, while almost all of the values in the dataset are encoded using numbers, not all of them represent numeric values. Check the third column of the feature summary (`feat_info`) for a summary of types of measurement.\n",
    "- For numeric and interval data, these features can be kept without changes.\n",
    "- Most of the variables in the dataset are ordinal in nature. While ordinal values may technically be non-linear in spacing, make the simplifying assumption that the ordinal variables can be treated as being interval in nature (that is, kept without any changes).\n",
    "- Special handling may be necessary for the remaining two variable types: categorical, and 'mixed'.\n",
    "\n",
    "In the first two parts of this sub-step, you will perform an investigation of the categorical and mixed-type features and make a decision on each of them, whether you will keep, drop, or re-encode each. Then, in the last part, you will create a new data frame with only the selected and engineered columns.\n",
    "\n",
    "Data wrangling is often the trickiest part of the data analysis process, and there's a lot of it to be done here. But stick with it: once you're done with this step, you'll be ready to get to the machine learning parts of the project!"
   ]
  },
  {
   "cell_type": "code",
   "execution_count": 13,
   "metadata": {},
   "outputs": [
    {
     "name": "stdout",
     "output_type": "stream",
     "text": [
      "There are 20 categorical features\n",
      "There are 7 mixed features\n"
     ]
    }
   ],
   "source": [
    "# How many features are there of each data type?\n",
    "cat_features = feat_info[feat_info.type == 'categorical']['attribute'].tolist()\n",
    "mix_features = feat_info[feat_info.type == 'mixed']['attribute'].tolist()\n",
    "\n",
    "# Ensure we aren't counting features which have been removed already\n",
    "cat_features = list(set(cat_features) - set(outlier_columns))\n",
    "mix_features = list(set(mix_features) - set(outlier_columns))\n",
    "\n",
    "print('There are {} categorical features'.format(len(cat_features)))\n",
    "print('There are {} mixed features'.format(len(mix_features)))"
   ]
  },
  {
   "cell_type": "markdown",
   "metadata": {},
   "source": [
    "#### Step 1.2.1: Re-Encode Categorical Features\n",
    "\n",
    "For categorical data, you would ordinarily need to encode the levels as dummy variables. Depending on the number of categories, perform one of the following:\n",
    "- For binary (two-level) categoricals that take numeric values, you can keep them without needing to do anything.\n",
    "- There is one binary variable that takes on non-numeric values. For this one, you need to re-encode the values as numbers or create a dummy variable.\n",
    "- For multi-level categoricals (three or more values), you can choose to encode the values using multiple dummy variables (e.g. via [OneHotEncoder](http://scikit-learn.org/stable/modules/generated/sklearn.preprocessing.OneHotEncoder.html)), or (to keep things straightforward) just drop them from the analysis. As always, document your choices in the Discussion section."
   ]
  },
  {
   "cell_type": "code",
   "execution_count": 14,
   "metadata": {},
   "outputs": [
    {
     "name": "stdout",
     "output_type": "stream",
     "text": [
      "['SOHO_KZ', 'ANREDE_KZ', 'GREEN_AVANTGARDE']\n",
      "['OST_WEST_KZ']\n",
      "['FINANZTYP', 'VERS_TYP', 'LP_FAMILIE_GROB', 'LP_FAMILIE_FEIN', 'SHOPPER_TYP', 'LP_STATUS_FEIN', 'LP_STATUS_GROB', 'ZABEOTYP', 'AGER_TYP', 'TITEL_KZ', 'CAMEO_DEU_2015', 'CAMEO_DEUG_2015', 'GFK_URLAUBERTYP', 'CJT_GESAMTTYP', 'NATIONALITAET_KZ', 'GEBAEUDETYP']\n"
     ]
    }
   ],
   "source": [
    "# Assess categorical variables: which are binary, which are multi-level, and\n",
    "# which one needs to be re-encoded?\n",
    "do_nothing_list = []\n",
    "create_dummies_list = []\n",
    "multi_dummies_or_drop_list = []\n",
    "for cat_feature in cat_features:\n",
    "    if len(azdias_rest[cat_feature].unique()) <= 2:\n",
    "        if pd.api.types.is_numeric_dtype(azdias_rest[cat_feature]):\n",
    "            do_nothing_list.append(cat_feature)\n",
    "        else:\n",
    "            create_dummies_list.append(cat_feature)\n",
    "    else:\n",
    "        multi_dummies_or_drop_list.append(cat_feature)\n",
    "        \n",
    "print(do_nothing_list)\n",
    "print(create_dummies_list)\n",
    "print(multi_dummies_or_drop_list)"
   ]
  },
  {
   "cell_type": "code",
   "execution_count": 15,
   "metadata": {},
   "outputs": [
    {
     "name": "stdout",
     "output_type": "stream",
     "text": [
      "['W' 'O']\n",
      "16\n"
     ]
    }
   ],
   "source": [
    "print(azdias_rest['OST_WEST_KZ'].unique())\n",
    "print(len(multi_dummies_or_drop_list))"
   ]
  },
  {
   "cell_type": "code",
   "execution_count": 16,
   "metadata": {},
   "outputs": [
    {
     "name": "stdout",
     "output_type": "stream",
     "text": [
      "[1 0]\n"
     ]
    },
    {
     "name": "stderr",
     "output_type": "stream",
     "text": [
      "/opt/conda/lib/python3.6/site-packages/ipykernel_launcher.py:2: SettingWithCopyWarning: \n",
      "A value is trying to be set on a copy of a slice from a DataFrame.\n",
      "Try using .loc[row_indexer,col_indexer] = value instead\n",
      "\n",
      "See the caveats in the documentation: http://pandas.pydata.org/pandas-docs/stable/indexing.html#indexing-view-versus-copy\n",
      "  \n"
     ]
    }
   ],
   "source": [
    "# Re-encode categorical variable(s) to be kept in the analysis.\n",
    "azdias_rest['OST_WEST_KZ'] = azdias_rest['OST_WEST_KZ'].apply(lambda x: 0 if x == 'O'\n",
    "                                                                   else 1 if x == 'W'\n",
    "                                                                   else x)\n",
    "print(azdias_rest['OST_WEST_KZ'].unique())"
   ]
  },
  {
   "cell_type": "code",
   "execution_count": 17,
   "metadata": {},
   "outputs": [
    {
     "name": "stderr",
     "output_type": "stream",
     "text": [
      "/opt/conda/lib/python3.6/site-packages/ipykernel_launcher.py:2: SettingWithCopyWarning: \n",
      "A value is trying to be set on a copy of a slice from a DataFrame\n",
      "\n",
      "See the caveats in the documentation: http://pandas.pydata.org/pandas-docs/stable/indexing.html#indexing-view-versus-copy\n",
      "  \n"
     ]
    }
   ],
   "source": [
    "# Drop multi-categorical features\n",
    "azdias_rest.drop(multi_dummies_or_drop_list, axis=1, inplace=True)"
   ]
  },
  {
   "cell_type": "markdown",
   "metadata": {},
   "source": [
    "#### Discussion 1.2.1: Re-Encode Categorical Features\n",
    "\n",
    "I found three features with numeric, binary features ('ANREDE_KZ', 'GREEN_AVANTGARDE', 'SOHO_KZ'), with which I did nothing. I found one feature with non-numeric binary features ('OST_WEST_KZ', with values 'O' and 'W'), which I re-encoded with '0' for 'O' and '1' for 'W'. I found 16 features which were multi-level categoricals ('AGER_TYP', 'CJT_GESAMTTYP', 'FINANZTYP', 'GFK_URLAUBERTYP', 'LP_FAMILIE_FEIN', 'LP_FAMILIE_GROB', 'LP_STATUS_FEIN', 'LP_STATUS_GROB', 'NATIONALITAET_KZ', 'SHOPPER_TYP', 'TITEL_KZ', 'VERS_TYP', 'ZABEOTYP', 'GEBAEUDETYP', 'CAMEO_DEUG_2015', 'CAMEO_DEU_2015'), and chose to drop these from my analysis for the time being to keep the number of features down. If I have more time later, I can come back and re-encode these using OneHotEncoder and see how this changes my results."
   ]
  },
  {
   "cell_type": "markdown",
   "metadata": {},
   "source": [
    "#### Step 1.2.2: Engineer Mixed-Type Features\n",
    "\n",
    "There are a handful of features that are marked as \"mixed\" in the feature summary that require special treatment in order to be included in the analysis. There are two in particular that deserve attention; the handling of the rest are up to your own choices:\n",
    "- \"PRAEGENDE_JUGENDJAHRE\" combines information on three dimensions: generation by decade, movement (mainstream vs. avantgarde), and nation (east vs. west). While there aren't enough levels to disentangle east from west, you should create two new variables to capture the other two dimensions: an interval-type variable for decade, and a binary variable for movement.\n",
    "- \"CAMEO_INTL_2015\" combines information on two axes: wealth and life stage. Break up the two-digit codes by their 'tens'-place and 'ones'-place digits into two new ordinal variables (which, for the purposes of this project, is equivalent to just treating them as their raw numeric values).\n",
    "- If you decide to keep or engineer new features around the other mixed-type features, make sure you note your steps in the Discussion section.\n",
    "\n",
    "Be sure to check `Data_Dictionary.md` for the details needed to finish these tasks."
   ]
  },
  {
   "cell_type": "code",
   "execution_count": 18,
   "metadata": {},
   "outputs": [
    {
     "name": "stderr",
     "output_type": "stream",
     "text": [
      "/opt/conda/lib/python3.6/site-packages/ipykernel_launcher.py:12: SettingWithCopyWarning: \n",
      "A value is trying to be set on a copy of a slice from a DataFrame.\n",
      "Try using .loc[row_indexer,col_indexer] = value instead\n",
      "\n",
      "See the caveats in the documentation: http://pandas.pydata.org/pandas-docs/stable/indexing.html#indexing-view-versus-copy\n",
      "  if sys.path[0] == '':\n",
      "/opt/conda/lib/python3.6/site-packages/ipykernel_launcher.py:16: SettingWithCopyWarning: \n",
      "A value is trying to be set on a copy of a slice from a DataFrame.\n",
      "Try using .loc[row_indexer,col_indexer] = value instead\n",
      "\n",
      "See the caveats in the documentation: http://pandas.pydata.org/pandas-docs/stable/indexing.html#indexing-view-versus-copy\n",
      "  app.launch_new_instance()\n"
     ]
    }
   ],
   "source": [
    "# Investigate \"PRAEGENDE_JUGENDJAHRE\" and engineer two new variables.\n",
    "mainstream_list = [1,3,5,8,10,12,14]\n",
    "avantgarde_list = [2,4,6,7,9,11,13,15]\n",
    "\n",
    "decade_40s = [1,2]\n",
    "decade_50s = [3,4]\n",
    "decade_60s = [5,6,7]\n",
    "decade_70s = [8,9]\n",
    "decade_80s = [10,11,12,13]\n",
    "decade_90s = [14,15]\n",
    "\n",
    "azdias_rest['AVANTGARDE_MAINSTREAM'] = \\\n",
    "    azdias_rest['PRAEGENDE_JUGENDJAHRE'].apply(lambda x: 1 if x in avantgarde_list\n",
    "                                                    else 2 if x in mainstream_list\n",
    "                                                    else 0)\n",
    "    \n",
    "azdias_rest['DECADE'] = \\\n",
    "    azdias_rest['PRAEGENDE_JUGENDJAHRE'].apply(lambda x: 40 if x in decade_40s\n",
    "                                                    else 50 if x in decade_50s\n",
    "                                                    else 60 if x in decade_60s\n",
    "                                                    else 70 if x in decade_70s\n",
    "                                                    else 80 if x in decade_80s\n",
    "                                                    else 90 if x in decade_90s\n",
    "                                                    else 0)"
   ]
  },
  {
   "cell_type": "code",
   "execution_count": 19,
   "metadata": {},
   "outputs": [
    {
     "name": "stdout",
     "output_type": "stream",
     "text": [
      "['51' '24' '12' '43' '54' '22' '14' '13' '15' '41' '34' '55' '33' '25' nan\n",
      " '23' '31' '52' '35' '45' '44' '32']\n"
     ]
    },
    {
     "name": "stderr",
     "output_type": "stream",
     "text": [
      "/opt/conda/lib/python3.6/site-packages/ipykernel_launcher.py:4: SettingWithCopyWarning: \n",
      "A value is trying to be set on a copy of a slice from a DataFrame.\n",
      "Try using .loc[row_indexer,col_indexer] = value instead\n",
      "\n",
      "See the caveats in the documentation: http://pandas.pydata.org/pandas-docs/stable/indexing.html#indexing-view-versus-copy\n",
      "  after removing the cwd from sys.path.\n"
     ]
    },
    {
     "name": "stdout",
     "output_type": "stream",
     "text": [
      "['5' '2' '1' '4' '3' nan]\n",
      "['1' '4' '2' '3' '5' nan]\n"
     ]
    },
    {
     "name": "stderr",
     "output_type": "stream",
     "text": [
      "/opt/conda/lib/python3.6/site-packages/ipykernel_launcher.py:6: SettingWithCopyWarning: \n",
      "A value is trying to be set on a copy of a slice from a DataFrame.\n",
      "Try using .loc[row_indexer,col_indexer] = value instead\n",
      "\n",
      "See the caveats in the documentation: http://pandas.pydata.org/pandas-docs/stable/indexing.html#indexing-view-versus-copy\n",
      "  \n"
     ]
    }
   ],
   "source": [
    "# Investigate \"CAMEO_INTL_2015\" and engineer two new variables.\n",
    "print(azdias_rest['CAMEO_INTL_2015'].unique())\n",
    "\n",
    "azdias_rest['WEALTH'] = \\\n",
    "    azdias_rest['CAMEO_INTL_2015'].apply(lambda x: x[0] if not pd.isnull(x) else x)\n",
    "    \n",
    "azdias_rest['LIFESTAGE'] = \\\n",
    "    azdias_rest['CAMEO_INTL_2015'].apply(lambda x: x[1] if not pd.isnull(x) else x)\n",
    "\n",
    "print(azdias_rest['WEALTH'].unique())\n",
    "print(azdias_rest['LIFESTAGE'].unique())"
   ]
  },
  {
   "cell_type": "markdown",
   "metadata": {},
   "source": [
    "#### Discussion 1.2.2: Engineer Mixed-Type Features\n",
    "\n",
    "I performed re-engineering on the features 'PRAEGENDE_JUGENDJAHRE' and 'CAMEO_INTL_2015'. I re-encoded 'PRAEGENDE_JUGENDJAHRE' into two features: 'AVANTGARDE_MAINSTREAM' and 'DECADE', dropping information about east vs. west. I re-encoded 'CAMEO_INTL_2015' into two features: 'WEALTH' and 'LIFESTAGE'."
   ]
  },
  {
   "cell_type": "markdown",
   "metadata": {},
   "source": [
    "#### Step 1.2.3: Complete Feature Selection\n",
    "\n",
    "In order to finish this step up, you need to make sure that your data frame now only has the columns that you want to keep. To summarize, the dataframe should consist of the following:\n",
    "- All numeric, interval, and ordinal type columns from the original dataset.\n",
    "- Binary categorical features (all numerically-encoded).\n",
    "- Engineered features from other multi-level categorical features and mixed features.\n",
    "\n",
    "Make sure that for any new columns that you have engineered, that you've excluded the original columns from the final dataset. Otherwise, their values will interfere with the analysis later on the project. For example, you should not keep \"PRAEGENDE_JUGENDJAHRE\", since its values won't be useful for the algorithm: only the values derived from it in the engineered features you created should be retained. As a reminder, your data should only be from **the subset with few or no missing values**."
   ]
  },
  {
   "cell_type": "code",
   "execution_count": 20,
   "metadata": {},
   "outputs": [
    {
     "name": "stderr",
     "output_type": "stream",
     "text": [
      "/opt/conda/lib/python3.6/site-packages/ipykernel_launcher.py:3: SettingWithCopyWarning: \n",
      "A value is trying to be set on a copy of a slice from a DataFrame\n",
      "\n",
      "See the caveats in the documentation: http://pandas.pydata.org/pandas-docs/stable/indexing.html#indexing-view-versus-copy\n",
      "  This is separate from the ipykernel package so we can avoid doing imports until\n"
     ]
    }
   ],
   "source": [
    "# If there are other re-engineering tasks you need to perform, make sure you\n",
    "# take care of them here. (Dealing with missing data will come in step 2.1.)\n",
    "azdias_rest.drop(mix_features, axis=1, inplace=True)"
   ]
  },
  {
   "cell_type": "markdown",
   "metadata": {},
   "source": [
    "### Step 1.3: Create a Cleaning Function\n",
    "\n",
    "Even though you've finished cleaning up the general population demographics data, it's important to look ahead to the future and realize that you'll need to perform the same cleaning steps on the customer demographics data. In this substep, complete the function below to execute the main feature selection, encoding, and re-engineering steps you performed above. Then, when it comes to looking at the customer data in Step 3, you can just run this function on that DataFrame to get the trimmed dataset in a single step."
   ]
  },
  {
   "cell_type": "code",
   "execution_count": 21,
   "metadata": {},
   "outputs": [],
   "source": [
    "def clean_data(df):\n",
    "    \"\"\"\n",
    "    Perform feature trimming, re-encoding, and engineering for demographics\n",
    "    data\n",
    "    \n",
    "    INPUT: Demographics DataFrame\n",
    "    OUTPUT: Trimmed and cleaned demographics DataFrame\n",
    "    \"\"\"\n",
    "    outlier_columns = ['KK_KUNDENTYP']\n",
    "    threshold_row = 5\n",
    "    \n",
    "    cat_features_to_drop= ['LP_FAMILIE_FEIN',\n",
    "                           'LP_STATUS_GROB', 'FINANZTYP',\n",
    "                           'CAMEO_DEUG_2015', 'GEBAEUDETYP',\n",
    "                           'GFK_URLAUBERTYP', 'CAMEO_DEU_2015',\n",
    "                           'LP_FAMILIE_GROB', 'TITEL_KZ',\n",
    "                           'CJT_GESAMTTYP', 'LP_STATUS_FEIN',\n",
    "                           'ZABEOTYP', 'SHOPPER_TYP', 'VERS_TYP',\n",
    "                           'AGER_TYP', 'NATIONALITAET_KZ']\n",
    "    \n",
    "    mix_features_to_drop = ['WOHNLAGE', 'KBA05_BAUMAX',\n",
    "                            'LP_LEBENSPHASE_FEIN', 'PLZ8_BAUMAX',\n",
    "                            'PRAEGENDE_JUGENDJAHRE', 'CAMEO_INTL_2015',\n",
    "                            'LP_LEBENSPHASE_GROB']\n",
    "    \n",
    "    # Put in code here to execute all main cleaning steps:\n",
    "    # convert missing value codes into NaNs, ...\n",
    "    for c in df.columns:\n",
    "        missing_string = feat_info.loc[feat_info.attribute == c, 'missing_or_unknown'].iloc[0]\n",
    "        missing_list = missing_string[1:-1].split(',')\n",
    "        df[c] = df[c].replace(missing_list, np.nan)\n",
    "    \n",
    "    # remove selected columns and rows, ...=\n",
    "    df = df.drop(outlier_columns, axis=1)\n",
    "    \n",
    "    num_cols = len(df.columns)\n",
    "    missing_counts_by_row = df.apply(lambda x: num_cols - x.count(), axis=1)\n",
    "    df = df.loc[missing_counts_by_row.values <= threshold_row, :]\n",
    "    \n",
    "    # select, re-encode, and engineer column values.\n",
    "    df['OST_WEST_KZ'] = df['OST_WEST_KZ'].apply(lambda x: 0 if x == 'O'\n",
    "                                                     else 1 if x == 'W'\n",
    "                                                     else x)\n",
    "    \n",
    "    df = df.drop(cat_features_to_drop, axis=1)\n",
    "    \n",
    "    mainstream_list = [1,3,5,8,10,12,14]\n",
    "    avantgarde_list = [2,4,6,7,9,11,13,15]\n",
    "\n",
    "    decade_40s = [1,2]\n",
    "    decade_50s = [3,4]\n",
    "    decade_60s = [5,6,7]\n",
    "    decade_70s = [8,9]\n",
    "    decade_80s = [10,11,12,13]\n",
    "    decade_90s = [14,15]\n",
    "\n",
    "    df['AVANTGARDE_MAINSTREAM'] = df['PRAEGENDE_JUGENDJAHRE'].apply(lambda x: 1 if x in avantgarde_list\n",
    "                                                                         else 2 if x in mainstream_list\n",
    "                                                                         else 0)\n",
    "\n",
    "    df['DECADE'] = df['PRAEGENDE_JUGENDJAHRE'].apply(lambda x: 40 if x in decade_40s\n",
    "                                                          else 50 if x in decade_50s\n",
    "                                                          else 60 if x in decade_60s\n",
    "                                                          else 70 if x in decade_70s\n",
    "                                                          else 80 if x in decade_80s\n",
    "                                                          else 90 if x in decade_90s\n",
    "                                                          else 0)\n",
    "\n",
    "    df['WEALTH'] = df['CAMEO_INTL_2015'].apply(lambda x: x[0] if not pd.isnull(x) else x)\n",
    "    df['LIFESTAGE'] = df['CAMEO_INTL_2015'].apply(lambda x: x[1] if not pd.isnull(x) else x)\n",
    "    \n",
    "    df = df.drop(mix_features_to_drop, axis=1)\n",
    "    \n",
    "    # Return the cleaned dataframe.\n",
    "    return df"
   ]
  },
  {
   "cell_type": "markdown",
   "metadata": {},
   "source": [
    "## Step 2: Feature Transformation\n",
    "\n",
    "### Step 2.1: Apply Feature Scaling\n",
    "\n",
    "Before we apply dimensionality reduction techniques to the data, we need to perform feature scaling so that the principal component vectors are not influenced by the natural differences in scale for features. Starting from this part of the project, you'll want to keep an eye on the [API reference page for sklearn](http://scikit-learn.org/stable/modules/classes.html) to help you navigate to all of the classes and functions that you'll need. In this substep, you'll need to check the following:\n",
    "\n",
    "- sklearn requires that data not have missing values in order for its estimators to work properly. So, before applying the scaler to your data, make sure that you've cleaned the DataFrame of the remaining missing values before applying your scaler. This can be as simple as just removing all data points with missing data, or applying an [Imputer](http://scikit-learn.org/stable/modules/generated/sklearn.preprocessing.Imputer.html) to replace all missing values. You might also try a more complicated procedure where you temporarily remove missing values in order to compute the scaling parameters before re-introducing those missing values and applying imputation. Think about how much missing data you have and what possible effects each approach might have on your analysis, and justify your decision in the discussion section below.\n",
    "- For the actual scaling function, a [StandardScaler](http://scikit-learn.org/stable/modules/generated/sklearn.preprocessing.StandardScaler.html) instance is suggested, scaling each feature to mean 0 and standard deviation 1.\n",
    "- For these classes, you can make use of the `.fit_transform()` method to both fit a procedure to the data as well as apply the transformation to the data at the same time. Don't forget to keep the fit sklearn objects handy, since you'll be applying them to the customer demographics data towards the end of the project."
   ]
  },
  {
   "cell_type": "code",
   "execution_count": 22,
   "metadata": {},
   "outputs": [],
   "source": [
    "# If you've not yet cleaned the dataset of all NaN values, then investigate and\n",
    "# do that now.\n",
    "imp = Imputer()\n",
    "azdias_imputed = imp.fit_transform(azdias_rest)\n",
    "azdias_imputed_df = pd.DataFrame(azdias_imputed, columns = azdias_rest.columns)"
   ]
  },
  {
   "cell_type": "code",
   "execution_count": 23,
   "metadata": {},
   "outputs": [],
   "source": [
    "# Apply feature scaling to the general population demographics data.\n",
    "scaler = StandardScaler()\n",
    "azdias_scaled = scaler.fit_transform(azdias_imputed)\n",
    "azdias_scaled_df = pd.DataFrame(azdias_scaled, columns = azdias_rest.columns)"
   ]
  },
  {
   "cell_type": "markdown",
   "metadata": {},
   "source": [
    "### Discussion 2.1: Apply Feature Scaling\n",
    "\n",
    "As a first basic implementation, I have used an Imputer with default parameters to replace NaN (missing) values with the mean by each column. I have then used a StandardScaler to determine the mean and standard deviation of the dataset by feature and rescale features so each has mean 0 and standard deviation 1."
   ]
  },
  {
   "cell_type": "markdown",
   "metadata": {},
   "source": [
    "### Step 2.2: Perform Dimensionality Reduction\n",
    "\n",
    "On your scaled data, you are now ready to apply dimensionality reduction techniques.\n",
    "\n",
    "- Use sklearn's [PCA](http://scikit-learn.org/stable/modules/generated/sklearn.decomposition.PCA.html) class to apply principal component analysis on the data, thus finding the vectors of maximal variance in the data. To start, you should not set any parameters (so all components are computed) or set a number of components that is at least half the number of features (so there's enough features to see the general trend in variability).\n",
    "- Check out the ratio of variance explained by each principal component as well as the cumulative variance explained. Try plotting the cumulative or sequential values using matplotlib's [`plot()`](https://matplotlib.org/api/_as_gen/matplotlib.pyplot.plot.html) function. Based on what you find, select a value for the number of transformed features you'll retain for the clustering part of the project.\n",
    "- Once you've made a choice for the number of components to keep, make sure you re-fit a PCA instance to perform the decided-on transformation."
   ]
  },
  {
   "cell_type": "code",
   "execution_count": 24,
   "metadata": {},
   "outputs": [],
   "source": [
    "# Apply PCA to the data.\n",
    "pca = PCA()\n",
    "azdias_pca = pca.fit_transform(azdias_scaled_df)"
   ]
  },
  {
   "cell_type": "code",
   "execution_count": 25,
   "metadata": {},
   "outputs": [
    {
     "name": "stdout",
     "output_type": "stream",
     "text": [
      "Cumulative variance explained with 40 components: 0.9335736504154213\n"
     ]
    },
    {
     "data": {
      "image/png": "[encoded data removed]",
      "text/plain": [
       "<matplotlib.figure.Figure at 0x7f3a9faed2e8>"
      ]
     },
     "metadata": {},
     "output_type": "display_data"
    }
   ],
   "source": [
    "# Investigate the variance accounted for by each principal component.\n",
    "num_components = len(pca.explained_variance_ratio_)\n",
    "indices = np.arange(num_components)\n",
    "explained_variances = pca.explained_variance_ratio_\n",
    "\n",
    "plt.figure(figsize=(12, 5))\n",
    "cumulative_variances = np.cumsum(explained_variances)\n",
    "plt.plot(indices, cumulative_variances)\n",
    "\n",
    "plt.xlabel(\"Principal Component\")\n",
    "plt.ylabel(\"Cumulative % Variance Explained\")\n",
    "\n",
    "print('Cumulative variance explained with 40 components: {}'.format(cumulative_variances[39]))"
   ]
  },
  {
   "cell_type": "code",
   "execution_count": 26,
   "metadata": {},
   "outputs": [],
   "source": [
    "# Re-apply PCA to the data while selecting for number of components to retain.\n",
    "reduced_components = 40\n",
    "reduced_pca = PCA(reduced_components)\n",
    "azdias_reduced_pca = reduced_pca.fit_transform(azdias_scaled_df)"
   ]
  },
  {
   "cell_type": "markdown",
   "metadata": {},
   "source": [
    "### Discussion 2.2: Perform Dimensionality Reduction\n",
    "\n",
    "I have found that it requires 40 principal components to retain approximately 90% of the cumulative explained variance. Since there is no obvious sharp drop-off point after which very little additional variance is explained, I will start with these 40 components. It is possible that not much benefit is gained by using a reduced number principal components, and we would be better off using all of the components."
   ]
  },
  {
   "cell_type": "markdown",
   "metadata": {},
   "source": [
    "### Step 2.3: Interpret Principal Components\n",
    "\n",
    "Now that we have our transformed principal components, it's a nice idea to check out the weight of each variable on the first few components to see if they can be interpreted in some fashion.\n",
    "\n",
    "As a reminder, each principal component is a unit vector that points in the direction of highest variance (after accounting for the variance captured by earlier principal components). The further a weight is from zero, the more the principal component is in the direction of the corresponding feature. If two features have large weights of the same sign (both positive or both negative), then increases in one tend expect to be associated with increases in the other. To contrast, features with different signs can be expected to show a negative correlation: increases in one variable should result in a decrease in the other.\n",
    "\n",
    "- To investigate the features, you should map each weight to their corresponding feature name, then sort the features according to weight. The most interesting features for each principal component, then, will be those at the beginning and end of the sorted list. Use the data dictionary document to help you understand these most prominent features, their relationships, and what a positive or negative value on the principal component might indicate.\n",
    "- You should investigate and interpret feature associations from the first three principal components in this substep. To help facilitate this, you should write a function that you can call at any time to print the sorted list of feature weights, for the *i*-th principal component. This might come in handy in the next step of the project, when you interpret the tendencies of the discovered clusters."
   ]
  },
  {
   "cell_type": "code",
   "execution_count": 27,
   "metadata": {},
   "outputs": [
    {
     "name": "stdout",
     "output_type": "stream",
     "text": [
      "MOBI_REGIO              -0.2499\n",
      "PLZ8_ANTG1              -0.2336\n",
      "KBA05_ANTG1             -0.2321\n",
      "KBA05_GBZ               -0.2248\n",
      "FINANZ_MINIMALIST       -0.2113\n",
      "PLZ8_GBZ                -0.1740\n",
      "KONSUMNAEHE             -0.1729\n",
      "INNENSTADT              -0.1710\n",
      "BALLRAUM                -0.1323\n",
      "LIFESTAGE               -0.1253\n",
      "GEBAEUDETYP_RASTER      -0.1199\n",
      "GREEN_AVANTGARDE        -0.1078\n",
      "FINANZ_VORSORGER        -0.0973\n",
      "ALTERSKATEGORIE_GROB    -0.0944\n",
      "ANZ_PERSONEN            -0.0826\n",
      "KBA13_ANZAHL_PKW        -0.0824\n",
      "SEMIO_LUST              -0.0637\n",
      "SEMIO_ERL               -0.0637\n",
      "MIN_GEBAEUDEJAHR        -0.0601\n",
      "WOHNDAUER_2008          -0.0578\n",
      "OST_WEST_KZ             -0.0560\n",
      "ONLINE_AFFINITAET       -0.0542\n",
      "SEMIO_VERT              -0.0383\n",
      "ALTER_HH                -0.0257\n",
      "GEBURTSJAHR             -0.0244\n",
      "RETOURTYP_BK_S          -0.0053\n",
      "HEALTH_TYP              -0.0052\n",
      "ANZ_TITEL               -0.0035\n",
      "SOHO_KZ                 -0.0021\n",
      "KBA05_ANTG2              0.0088\n",
      "                          ...  \n",
      "SEMIO_SOZ                0.0366\n",
      "PLZ8_HHZ                 0.0423\n",
      "SEMIO_KAEM               0.0432\n",
      "DECADE                   0.0436\n",
      "FINANZ_ANLEGER           0.0512\n",
      "SEMIO_KULT               0.0591\n",
      "FINANZ_UNAUFFAELLIGER    0.0617\n",
      "KKK                      0.0617\n",
      "AVANTGARDE_MAINSTREAM    0.0677\n",
      "SEMIO_FAM                0.0685\n",
      "SEMIO_TRADV              0.0719\n",
      "SEMIO_MAT                0.0724\n",
      "SEMIO_RAT                0.0820\n",
      "REGIOTYP                 0.0874\n",
      "SEMIO_REL                0.0947\n",
      "SEMIO_PFLICHT            0.0982\n",
      "FINANZ_SPARER            0.1280\n",
      "KBA05_ANTG3              0.1392\n",
      "RELAT_AB                 0.1397\n",
      "ANZ_HAUSHALTE_AKTIV      0.1404\n",
      "ARBEIT                   0.1485\n",
      "KBA05_ANTG4              0.1582\n",
      "PLZ8_ANTG2               0.1586\n",
      "FINANZ_HAUSBAUER         0.1681\n",
      "EWDICHTE                 0.2034\n",
      "ORTSGR_KLS9              0.2052\n",
      "HH_EINKOMMEN_SCORE       0.2063\n",
      "WEALTH                   0.2125\n",
      "PLZ8_ANTG4               0.2263\n",
      "PLZ8_ANTG3               0.2340\n",
      "Name: 0, Length: 65, dtype: float64\n"
     ]
    }
   ],
   "source": [
    "# Map weights for the first principal component to corresponding feature names\n",
    "# and then print the linked values, sorted by weight.\n",
    "# HINT: Try defining a function here or in a new cell that you can reuse in the\n",
    "# other cells.\n",
    "\n",
    "def print_pca_weights(component_num, pca, data):\n",
    "    components = pd.DataFrame(np.round(pca.components_, 4),\n",
    "                              columns = data.keys()).sort_values(by=component_num - 1, axis=1)\n",
    "    print(components.iloc[component_num - 1])\n",
    "\n",
    "print_pca_weights(1, reduced_pca, azdias_scaled_df)"
   ]
  },
  {
   "cell_type": "code",
   "execution_count": 26,
   "metadata": {},
   "outputs": [
    {
     "name": "stdout",
     "output_type": "stream",
     "text": [
      "SEMIO_REL               -0.2643\n",
      "FINANZ_SPARER           -0.2408\n",
      "SEMIO_TRADV             -0.2405\n",
      "SEMIO_PFLICHT           -0.2367\n",
      "SEMIO_KULT              -0.2357\n",
      "FINANZ_UNAUFFAELLIGER   -0.2250\n",
      "DECADE                  -0.2140\n",
      "FINANZ_ANLEGER          -0.2015\n",
      "SEMIO_FAM               -0.1965\n",
      "SEMIO_RAT               -0.1722\n",
      "SEMIO_MAT               -0.1706\n",
      "ONLINE_AFFINITAET       -0.1662\n",
      "SEMIO_SOZ               -0.1171\n",
      "ALTER_HH                -0.1033\n",
      "SEMIO_VERT              -0.0780\n",
      "KBA05_GBZ               -0.0705\n",
      "MOBI_REGIO              -0.0688\n",
      "PLZ8_ANTG1              -0.0687\n",
      "GEBURTSJAHR             -0.0606\n",
      "KBA05_ANTG1             -0.0597\n",
      "INNENSTADT              -0.0585\n",
      "ANZ_PERSONEN            -0.0580\n",
      "PLZ8_GBZ                -0.0549\n",
      "KONSUMNAEHE             -0.0523\n",
      "HEALTH_TYP              -0.0504\n",
      "BALLRAUM                -0.0484\n",
      "MIN_GEBAEUDEJAHR        -0.0375\n",
      "GEBAEUDETYP_RASTER      -0.0319\n",
      "KBA13_ANZAHL_PKW        -0.0275\n",
      "AVANTGARDE_MAINSTREAM   -0.0214\n",
      "                          ...  \n",
      "PLZ8_HHZ                 0.0097\n",
      "LIFESTAGE                0.0126\n",
      "KKK                      0.0145\n",
      "REGIOTYP                 0.0269\n",
      "ANZ_HH_TITEL             0.0279\n",
      "KBA05_ANTG3              0.0309\n",
      "HH_EINKOMMEN_SCORE       0.0352\n",
      "PLZ8_ANTG2               0.0489\n",
      "ANZ_HAUSHALTE_AKTIV      0.0493\n",
      "RELAT_AB                 0.0511\n",
      "ARBEIT                   0.0519\n",
      "WEALTH                   0.0537\n",
      "KBA05_ANTG4              0.0570\n",
      "WOHNDAUER_2008           0.0663\n",
      "PLZ8_ANTG4               0.0678\n",
      "PLZ8_ANTG3               0.0711\n",
      "ORTSGR_KLS9              0.0714\n",
      "EWDICHTE                 0.0730\n",
      "SEMIO_DOM                0.0744\n",
      "FINANZ_MINIMALIST        0.0789\n",
      "ANREDE_KZ                0.1018\n",
      "FINANZ_HAUSBAUER         0.1039\n",
      "W_KEIT_KIND_HH           0.1108\n",
      "SEMIO_KAEM               0.1190\n",
      "SEMIO_KRIT               0.1284\n",
      "RETOURTYP_BK_S           0.1680\n",
      "SEMIO_LUST               0.1888\n",
      "FINANZ_VORSORGER         0.2383\n",
      "SEMIO_ERL                0.2448\n",
      "ALTERSKATEGORIE_GROB     0.2563\n",
      "Name: 1, Length: 65, dtype: float64\n"
     ]
    }
   ],
   "source": [
    "# Map weights for the second principal component to corresponding feature names\n",
    "# and then print the linked values, sorted by weight.\n",
    "print_pca_weights(2, reduced_pca, azdias_scaled_df)"
   ]
  },
  {
   "cell_type": "code",
   "execution_count": 27,
   "metadata": {},
   "outputs": [
    {
     "name": "stdout",
     "output_type": "stream",
     "text": [
      "ANREDE_KZ               -0.3682\n",
      "SEMIO_KAEM              -0.3372\n",
      "SEMIO_DOM               -0.3143\n",
      "SEMIO_KRIT              -0.2662\n",
      "SEMIO_RAT               -0.2289\n",
      "FINANZ_ANLEGER          -0.1964\n",
      "SEMIO_ERL               -0.1612\n",
      "FINANZ_SPARER           -0.1177\n",
      "FINANZ_UNAUFFAELLIGER   -0.1089\n",
      "SEMIO_PFLICHT           -0.0934\n",
      "SEMIO_TRADV             -0.0932\n",
      "DECADE                  -0.0779\n",
      "ONLINE_AFFINITAET       -0.0648\n",
      "FINANZ_HAUSBAUER        -0.0469\n",
      "PLZ8_ANTG1              -0.0430\n",
      "INNENSTADT              -0.0396\n",
      "ALTER_HH                -0.0393\n",
      "PLZ8_GBZ                -0.0371\n",
      "KONSUMNAEHE             -0.0345\n",
      "GEBURTSJAHR             -0.0335\n",
      "BALLRAUM                -0.0318\n",
      "MOBI_REGIO              -0.0287\n",
      "GEBAEUDETYP_RASTER      -0.0279\n",
      "KBA05_GBZ               -0.0265\n",
      "AVANTGARDE_MAINSTREAM   -0.0258\n",
      "KBA13_ANZAHL_PKW        -0.0229\n",
      "KBA05_ANTG1             -0.0223\n",
      "HH_EINKOMMEN_SCORE      -0.0208\n",
      "OST_WEST_KZ             -0.0147\n",
      "MIN_GEBAEUDEJAHR        -0.0133\n",
      "                          ...  \n",
      "PLZ8_HHZ                 0.0027\n",
      "REGIOTYP                 0.0044\n",
      "KBA05_ANTG3              0.0066\n",
      "ANZ_TITEL                0.0096\n",
      "ANZ_HH_TITEL             0.0135\n",
      "HEALTH_TYP               0.0142\n",
      "ANZ_HAUSHALTE_AKTIV      0.0249\n",
      "WEALTH                   0.0256\n",
      "PLZ8_ANTG2               0.0272\n",
      "KBA05_ANTG4              0.0281\n",
      "RELAT_AB                 0.0291\n",
      "ARBEIT                   0.0320\n",
      "WOHNDAUER_2008           0.0382\n",
      "PLZ8_ANTG3               0.0416\n",
      "EWDICHTE                 0.0423\n",
      "PLZ8_ANTG4               0.0425\n",
      "ORTSGR_KLS9              0.0427\n",
      "SEMIO_MAT                0.0434\n",
      "GREEN_AVANTGARDE         0.0447\n",
      "SEMIO_REL                0.0558\n",
      "SEMIO_LUST               0.0728\n",
      "ALTERSKATEGORIE_GROB     0.0888\n",
      "W_KEIT_KIND_HH           0.0996\n",
      "FINANZ_VORSORGER         0.1123\n",
      "RETOURTYP_BK_S           0.1194\n",
      "FINANZ_MINIMALIST        0.1650\n",
      "SEMIO_KULT               0.2219\n",
      "SEMIO_FAM                0.2407\n",
      "SEMIO_SOZ                0.2605\n",
      "SEMIO_VERT               0.3474\n",
      "Name: 2, Length: 65, dtype: float64\n"
     ]
    }
   ],
   "source": [
    "# Map weights for the third principal component to corresponding feature names\n",
    "# and then print the linked values, sorted by weight.\n",
    "print_pca_weights(3, reduced_pca, azdias_scaled_df)"
   ]
  },
  {
   "cell_type": "markdown",
   "metadata": {},
   "source": [
    "### Discussion 2.3: Interpret Principal Components\n",
    "\n",
    "The first feature (with highest explained variance) seems to be associated with wealth, net worth, and number of large (6-10 person) households. It is negatively associated with small (1-2 person) households.\n",
    "\n",
    "The second feature appears to be associated with older, more religious, less event-oriented individuals who save money.\n",
    "\n",
    "The third feature represents individuals who are more critical, rational, dominant, and combative, and who are less family-oriented, culturally and socially minded, or dreamful. This feature is also associated with the male gender."
   ]
  },
  {
   "cell_type": "markdown",
   "metadata": {},
   "source": [
    "## Step 3: Clustering\n",
    "\n",
    "### Step 3.1: Apply Clustering to General Population\n",
    "\n",
    "You've assessed and cleaned the demographics data, then scaled and transformed them. Now, it's time to see how the data clusters in the principal components space. In this substep, you will apply k-means clustering to the dataset and use the average within-cluster distances from each point to their assigned cluster's centroid to decide on a number of clusters to keep.\n",
    "\n",
    "- Use sklearn's [KMeans](http://scikit-learn.org/stable/modules/generated/sklearn.cluster.KMeans.html#sklearn.cluster.KMeans) class to perform k-means clustering on the PCA-transformed data.\n",
    "- Then, compute the average difference from each point to its assigned cluster's center. **Hint**: The KMeans object's `.score()` method might be useful here, but note that in sklearn, scores tend to be defined so that larger is better. Try applying it to a small, toy dataset, or use an internet search to help your understanding.\n",
    "- Perform the above two steps for a number of different cluster counts. You can then see how the average distance decreases with an increasing number of clusters. However, each additional cluster provides a smaller net benefit. Use this fact to select a final number of clusters in which to group the data. **Warning**: because of the large size of the dataset, it can take a long time for the algorithm to resolve. The more clusters to fit, the longer the algorithm will take. You should test for cluster counts through at least 10 clusters to get the full picture, but you shouldn't need to test for a number of clusters above about 30.\n",
    "- Once you've selected a final number of clusters to use, re-fit a KMeans instance to perform the clustering operation. Make sure that you also obtain the cluster assignments for the general demographics data, since you'll be using them in the final Step 3.3."
   ]
  },
  {
   "cell_type": "code",
   "execution_count": 28,
   "metadata": {},
   "outputs": [
    {
     "name": "stdout",
     "output_type": "stream",
     "text": [
      "With 2 clusters, average distance is 39056174.854835756.\n",
      "With 3 clusters, average distance is 36069365.444104664.\n",
      "With 4 clusters, average distance is 34222922.50884786.\n",
      "With 5 clusters, average distance is 32831379.624823004.\n",
      "With 6 clusters, average distance is 31661034.070532247.\n",
      "With 7 clusters, average distance is 30605876.61116581.\n",
      "With 8 clusters, average distance is 29765899.26236801.\n",
      "With 9 clusters, average distance is 28982388.72676288.\n",
      "With 10 clusters, average distance is 28267671.77599231.\n",
      "With 11 clusters, average distance is 28053202.75961291.\n",
      "With 12 clusters, average distance is 27409701.6421935.\n",
      "With 13 clusters, average distance is 27333059.046654858.\n",
      "With 14 clusters, average distance is 26714193.594156176.\n",
      "With 15 clusters, average distance is 26036636.118161254.\n",
      "With 16 clusters, average distance is 26115024.575403523.\n",
      "With 17 clusters, average distance is 25866645.856239792.\n",
      "With 18 clusters, average distance is 25304395.012979478.\n",
      "With 19 clusters, average distance is 25108350.57459714.\n",
      "With 20 clusters, average distance is 24712500.446392674.\n"
     ]
    }
   ],
   "source": [
    "# Over a number of different cluster counts...\n",
    "avg_dist = np.zeros(19)\n",
    "for k in range(2,21):\n",
    "\n",
    "    # run k-means clustering on the data and...\n",
    "    kmeans = KMeans(n_clusters = k).fit(azdias_reduced_pca)\n",
    "    \n",
    "    # compute the average within-cluster distances.\n",
    "    avg_dist[k - 2] = -1 * kmeans.score(azdias_reduced_pca)\n",
    "    print('With {} clusters, average distance is {}.'.format(k, avg_dist[k - 2]))"
   ]
  },
  {
   "cell_type": "code",
   "execution_count": 29,
   "metadata": {},
   "outputs": [
    {
     "name": "stdout",
     "output_type": "stream",
     "text": [
      "Best number of clusters is 20, with average distance 24712500.446392674.\n"
     ]
    }
   ],
   "source": [
    "print('Best number of clusters is {}, with average distance {}.'.format(np.argmin(avg_dist) + 2, min(avg_dist)))"
   ]
  },
  {
   "cell_type": "code",
   "execution_count": 30,
   "metadata": {},
   "outputs": [
    {
     "name": "stdout",
     "output_type": "stream",
     "text": [
      "Average distance with 20 clusters: 24712500.446392674\n"
     ]
    },
    {
     "data": {
      "image/png": "[encoded data removed]",
      "text/plain": [
       "<matplotlib.figure.Figure at 0x7f3a9f99d2b0>"
      ]
     },
     "metadata": {},
     "output_type": "display_data"
    }
   ],
   "source": [
    "# Investigate the change in within-cluster distance across number of clusters.\n",
    "# HINT: Use matplotlib's plot function to visualize this relationship.\n",
    "clusters_range = len(avg_dist)\n",
    "indices = range(2, clusters_range + 2)\n",
    "\n",
    "plt.figure(figsize=(12, 5))\n",
    "plt.plot(indices, avg_dist)\n",
    "\n",
    "plt.xlabel(\"Number of Clusters\")\n",
    "plt.ylabel(\"Average Distance to Center of Cluster\")\n",
    "\n",
    "print('Average distance with {} clusters: {}'.format(np.argmin(avg_dist) + 2, min(avg_dist)))"
   ]
  },
  {
   "cell_type": "code",
   "execution_count": 36,
   "metadata": {},
   "outputs": [],
   "source": [
    "# Re-fit the k-means model with the selected number of clusters and obtain\n",
    "# cluster predictions for the general population demographics data.\n",
    "kmeans = KMeans(n_clusters = np.argmin(avg_dist) + 2).fit(azdias_reduced_pca)\n",
    "labels_azdias = kmeans.predict(azdias_reduced_pca)"
   ]
  },
  {
   "cell_type": "markdown",
   "metadata": {},
   "source": [
    "### Discussion 3.1: Apply Clustering to General Population\n",
    "\n",
    "I found that the average distance to the center of the cluster decreased pretty consistently as the number of clusters increased, all the way to 20 clusters (which is where I stopped). Consequently, I have decided to proceed with 20 clusters."
   ]
  },
  {
   "cell_type": "markdown",
   "metadata": {},
   "source": [
    "### Step 3.2: Apply All Steps to the Customer Data\n",
    "\n",
    "Now that you have clusters and cluster centers for the general population, it's time to see how the customer data maps on to those clusters. Take care to not confuse this for re-fitting all of the models to the customer data. Instead, you're going to use the fits from the general population to clean, transform, and cluster the customer data. In the last step of the project, you will interpret how the general population fits apply to the customer data.\n",
    "\n",
    "- Don't forget when loading in the customers data, that it is semicolon (`;`) delimited.\n",
    "- Apply the same feature wrangling, selection, and engineering steps to the customer demographics using the `clean_data()` function you created earlier. (You can assume that the customer demographics data has similar meaning behind missing data patterns as the general demographics data.)\n",
    "- Use the sklearn objects from the general demographics data, and apply their transformations to the customers data. That is, you should not be using a `.fit()` or `.fit_transform()` method to re-fit the old objects, nor should you be creating new sklearn objects! Carry the data through the feature scaling, PCA, and clustering steps, obtaining cluster assignments for all of the data in the customer demographics data."
   ]
  },
  {
   "cell_type": "code",
   "execution_count": 32,
   "metadata": {},
   "outputs": [],
   "source": [
    "# Load in the customer demographics data.\n",
    "customers = pd.read_csv('Udacity_CUSTOMERS_Subset.csv', sep=';')"
   ]
  },
  {
   "cell_type": "code",
   "execution_count": 37,
   "metadata": {},
   "outputs": [],
   "source": [
    "# Apply preprocessing, feature transformation, and clustering from the general\n",
    "# demographics onto the customer data, obtaining cluster predictions for the\n",
    "# customer demographics data.\n",
    "customers_cleaned = clean_data(customers)\n",
    "\n",
    "customers_imputed = imp.transform(customers_cleaned)\n",
    "customers_imputed_df = pd.DataFrame(customers_imputed, columns = customers_cleaned.columns)\n",
    "\n",
    "customers_scaled = scaler.transform(customers_imputed)\n",
    "customers_scaled_df = pd.DataFrame(customers_scaled, columns = customers_cleaned.columns)\n",
    "\n",
    "customers_pca = reduced_pca.transform(customers_scaled_df)\n",
    "\n",
    "kmeans = KMeans(n_clusters = 20).fit(customers_pca)\n",
    "labels_customer = kmeans.predict(customers_pca)"
   ]
  },
  {
   "cell_type": "markdown",
   "metadata": {},
   "source": [
    "### Step 3.3: Compare Customer Data to Demographics Data\n",
    "\n",
    "At this point, you have clustered data based on demographics of the general population of Germany, and seen how the customer data for a mail-order sales company maps onto those demographic clusters. In this final substep, you will compare the two cluster distributions to see where the strongest customer base for the company is.\n",
    "\n",
    "Consider the proportion of persons in each cluster for the general population, and the proportions for the customers. If we think the company's customer base to be universal, then the cluster assignment proportions should be fairly similar between the two. If there are only particular segments of the population that are interested in the company's products, then we should see a mismatch from one to the other. If there is a higher proportion of persons in a cluster for the customer data compared to the general population (e.g. 5% of persons are assigned to a cluster for the general population, but 15% of the customer data is closest to that cluster's centroid) then that suggests the people in that cluster to be a target audience for the company. On the other hand, the proportion of the data in a cluster being larger in the general population than the customer data (e.g. only 2% of customers closest to a population centroid that captures 6% of the data) suggests that group of persons to be outside of the target demographics.\n",
    "\n",
    "Take a look at the following points in this step:\n",
    "\n",
    "- Compute the proportion of data points in each cluster for the general population and the customer data. Visualizations will be useful here: both for the individual dataset proportions, but also to visualize the ratios in cluster representation between groups. Seaborn's [`countplot()`](https://seaborn.pydata.org/generated/seaborn.countplot.html) or [`barplot()`](https://seaborn.pydata.org/generated/seaborn.barplot.html) function could be handy.\n",
    "  - Recall the analysis you performed in step 1.1.3 of the project, where you separated out certain data points from the dataset if they had more than a specified threshold of missing values. If you found that this group was qualitatively different from the main bulk of the data, you should treat this as an additional data cluster in this analysis. Make sure that you account for the number of data points in this subset, for both the general population and customer datasets, when making your computations!\n",
    "- Which cluster or clusters are overrepresented in the customer dataset compared to the general population? Select at least one such cluster and infer what kind of people might be represented by that cluster. Use the principal component interpretations from step 2.3 or look at additional components to help you make this inference. Alternatively, you can use the `.inverse_transform()` method of the PCA and StandardScaler objects to transform centroids back to the original data space and interpret the retrieved values directly.\n",
    "- Perform a similar investigation for the underrepresented clusters. Which cluster or clusters are underrepresented in the customer dataset compared to the general population, and what kinds of people are typified by these clusters?"
   ]
  },
  {
   "cell_type": "code",
   "execution_count": 64,
   "metadata": {},
   "outputs": [
    {
     "data": {
      "text/plain": [
       "(0, 25)"
      ]
     },
     "execution_count": 64,
     "metadata": {},
     "output_type": "execute_result"
    },
    {
     "data": {
      "image/png": "[encoded data removed]",
      "text/plain": [
       "<matplotlib.figure.Figure at 0x7f3aa304d438>"
      ]
     },
     "metadata": {},
     "output_type": "display_data"
    }
   ],
   "source": [
    "# Compare the proportion of data in each cluster for the customer data to the\n",
    "# proportion of data in each cluster for the general population.\n",
    "azdias_clusters_df = pd.DataFrame(labels_azdias, columns=['cluster_label'])\n",
    "customers_clusters_df = pd.DataFrame(labels_customer, columns=['cluster_label'])\n",
    "\n",
    "f, axes = plt.subplots(2, 1, figsize=(14,8))\n",
    "plt.tight_layout()\n",
    "plt.subplots_adjust(hspace=0.3)\n",
    "\n",
    "sns.barplot(x=\"cluster_label\", y=\"cluster_label\", data=azdias_clusters_df,\n",
    "            estimator=lambda x: len(x) / len(azdias_clusters_df) * 100,\n",
    "            ax = axes[0])\n",
    "axes[0].set(ylabel=\"Percent\")\n",
    "axes[0].set_title('General Population Data')\n",
    "axes[0].set_ylim(0,25)\n",
    "\n",
    "sns.barplot(x=\"cluster_label\", y=\"cluster_label\", data=customers_clusters_df,\n",
    "            estimator=lambda x: len(x) / len(customers_clusters_df) * 100,\n",
    "            ax = axes[1])\n",
    "axes[1].set(ylabel=\"Percent\")\n",
    "axes[1].set_title('Customer Data')\n",
    "axes[1].set_ylim(0,25)"
   ]
  },
  {
   "cell_type": "code",
   "execution_count": 83,
   "metadata": {},
   "outputs": [
    {
     "name": "stdout",
     "output_type": "stream",
     "text": [
      "One cluster which is overrepresented in the customer data is cluster 17.\n",
      " \n",
      "The PCA component with largest positive association with cluster 17 is component #2.\n",
      "The PCA component with largest negative association with cluster 17 is component #0.\n"
     ]
    }
   ],
   "source": [
    "# What kinds of people are part of a cluster that is overrepresented in the\n",
    "# customer data compared to the general population?\n",
    "\n",
    "print('One cluster which is overrepresented in the customer data is cluster 17.')\n",
    "print(' ')\n",
    "\n",
    "centroid17 = pd.DataFrame(kmeans.cluster_centers_[17], columns=['component_values'])\n",
    "centroid17 = centroid17.sort_values('component_values')\n",
    "\n",
    "largest_neg = centroid17.head(1).index.values[0]\n",
    "largest_pos = centroid17.tail(1).index.values[0]\n",
    "\n",
    "print('The PCA component with largest positive association with cluster 17 is component #{}.'.format(largest_pos))\n",
    "print('The PCA component with largest negative association with cluster 17 is component #{}.'.format(largest_neg))"
   ]
  },
  {
   "cell_type": "code",
   "execution_count": 86,
   "metadata": {},
   "outputs": [
    {
     "name": "stdout",
     "output_type": "stream",
     "text": [
      "One cluster which is underrepresented in the customer data is cluster 0.\n",
      " \n",
      "The PCA component with largest positive association with cluster 0 is component #1.\n",
      "The PCA component with largest negative association with cluster 0 is component #0.\n"
     ]
    }
   ],
   "source": [
    "# What kinds of people are part of a cluster that is underrepresented in the\n",
    "# customer data compared to the general population?\n",
    "\n",
    "print('One cluster which is underrepresented in the customer data is cluster 0.')\n",
    "print(' ')\n",
    "\n",
    "centroid0 = pd.DataFrame(kmeans.cluster_centers_[0], columns=['component_values'])\n",
    "centroid0 = centroid0.sort_values('component_values')\n",
    "\n",
    "largest_neg = centroid0.head(1).index.values[0]\n",
    "largest_pos = centroid0.tail(1).index.values[0]\n",
    "\n",
    "print('The PCA component with largest positive association with cluster 0 is component #{}.'.format(largest_pos))\n",
    "print('The PCA component with largest negative association with cluster 0 is component #{}.'.format(largest_neg))"
   ]
  },
  {
   "cell_type": "markdown",
   "metadata": {},
   "source": [
    "### Discussion 3.3: Compare Customer Data to Demographics Data\n",
    "\n",
    "We have found that cluster number 17 (the 18th cluster) is overrepresented in the customer data relative to the general population. We have also found that this cluster is positively associated with PCA component number 2 (which is the third component) and negatively associated with PCA component number 0 (the first component). From our interpretations above, we know that the first component is associated with wealthier individuals in areas with large houses. The third component is associated with rational, critical individuals who tend to be male and not particularly idealistic. Consequently, we can conclude that highly rational, critical, non-idealistic individuals (who measure high in the third component), but who are not as likely to be wealthy (the first component) are more highly represented in the customer data than the general population, and therefore are a potential target audience.\n",
    "\n",
    "We have also found that cluster number 0 (the first cluster) is *under*represented in the customer data. This cluster is positively associated with the second PCA component, which was found to be associated with older, religious individuals who tend to save money. This cluster is also negatively associated with the 1st component, representing high-wealth individuals. Consequently, the individuals who are older, religious, and tend to save money (second PCA component), but are not necessarily particularly wealthy (first component) are *less* likely to be a relevant target audience for this company.\n",
    "\n",
    "Simple high-level takeaways of this analysis:\n",
    "\n",
    "1) Individuals who are highly rational, critical, non-idealistic, not very social or culturally minded, potentially combative or dominant and likely male are a strong target audience for this company.\n",
    "\n",
    "2) Individuals who are older, less event-focused, religious-minded and who tend to save money would be a poor target audience for this company."
   ]
  },
  {
   "cell_type": "markdown",
   "metadata": {},
   "source": [
    "> Congratulations on making it this far in the project! Before you finish, make sure to check through the entire notebook from top to bottom to make sure that your analysis follows a logical flow and all of your findings are documented in **Discussion** cells. Once you've checked over all of your work, you should export the notebook as an HTML document to submit for evaluation. You can do this from the menu, navigating to **File -> Download as -> HTML (.html)**. You will submit both that document and this notebook for your project submission."
   ]
  },
  {
   "cell_type": "code",
   "execution_count": null,
   "metadata": {},
   "outputs": [],
   "source": []
  }
 ],
 "metadata": {
  "kernelspec": {
   "display_name": "Python 3",
   "language": "python",
   "name": "python3"
  },
  "language_info": {
   "codemirror_mode": {
    "name": "ipython",
    "version": 3
   },
   "file_extension": ".py",
   "mimetype": "text/x-python",
   "name": "python",
   "nbconvert_exporter": "python",
   "pygments_lexer": "ipython3",
   "version": "3.6.3"
  }
 },
 "nbformat": 4,
 "nbformat_minor": 2
}
